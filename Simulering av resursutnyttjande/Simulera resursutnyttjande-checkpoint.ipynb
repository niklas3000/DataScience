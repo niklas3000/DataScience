{
 "cells": [
  {
   "cell_type": "markdown",
   "metadata": {},
   "source": [
    "## Simulera projektlängd och resursutnyttjande"
   ]
  },
  {
   "cell_type": "code",
   "execution_count": 85,
   "metadata": {},
   "outputs": [],
   "source": [
    "import random\n",
    "import matplotlib\n",
    "import numpy as np\n",
    "import matplotlib.pyplot as plt\n",
    "import pandas as pd\n",
    "%matplotlib inline  \n",
    "np.random.seed(1)"
   ]
  },
  {
   "cell_type": "code",
   "execution_count": 86,
   "metadata": {},
   "outputs": [],
   "source": [
    "class WorkItem:\n",
    "\n",
    "    def __init__(self, days):\n",
    "        self.days = days\n",
    "        self.assigned = False\n",
    "\n",
    "    def isDone(self):\n",
    "        return (self.days <= 0)\n",
    "    \n",
    "    def decrease(self):\n",
    "        if (self.isDone() == False):\n",
    "            self.days = self.days - 1\n",
    "        \n",
    "    def getDaysLeft(self):\n",
    "        return self.days\n",
    "    \n",
    "    def assign(self):\n",
    "        self.assigned = True\n",
    "        \n",
    "    def unAssign(self):\n",
    "        self.assigned = False\n",
    "        \n",
    "    def isAssgined(self):\n",
    "        return self.assigned\n",
    "    \n"
   ]
  },
  {
   "cell_type": "code",
   "execution_count": 87,
   "metadata": {},
   "outputs": [
    {
     "name": "stderr",
     "output_type": "stream",
     "text": [
      "test_decrease (__main__.TestWorkItem) ... ok\n",
      "test_init (__main__.TestWorkItem) ... ok\n",
      "test_isDone (__main__.TestWorkItem) ... ok\n",
      "\n",
      "----------------------------------------------------------------------\n",
      "Ran 3 tests in 0.000s\n",
      "\n",
      "OK\n"
     ]
    },
    {
     "data": {
      "text/plain": [
       "<unittest.runner.TextTestResult run=3 errors=0 failures=0>"
      ]
     },
     "execution_count": 87,
     "metadata": {},
     "output_type": "execute_result"
    }
   ],
   "source": [
    "import unittest\n",
    "\n",
    "class TestWorkItem(unittest.TestCase):\n",
    "\n",
    "    def test_init(self):\n",
    "        a = WorkItem(4)\n",
    "        self.assertEqual(a.getDaysLeft(), 4)\n",
    "        self.assertFalse(a.isAssgined())\n",
    "\n",
    "    def test_isDone(self):\n",
    "        a = WorkItem(3)\n",
    "        self.assertFalse(a.isDone())\n",
    "        a = WorkItem(0)\n",
    "        self.assertTrue(a.isDone())\n",
    "        \n",
    "    def test_decrease(self):\n",
    "        a = WorkItem(4)\n",
    "        a.decrease()\n",
    "        self.assertEqual(a.getDaysLeft(), 3)\n",
    "        \n",
    "    def isAssgined(self):\n",
    "        a = WorkItem(4)\n",
    "        a.assign()\n",
    "        self.assertTrue(a.isAssgined())\n",
    "            \n",
    "            \n",
    "suite = unittest.TestLoader().loadTestsFromTestCase(TestWorkItem)\n",
    "unittest.TextTestRunner(verbosity=2).run(suite)"
   ]
  },
  {
   "cell_type": "code",
   "execution_count": 88,
   "metadata": {},
   "outputs": [],
   "source": [
    "class Batch:\n",
    "    \n",
    "    def __init__(self, workItems):\n",
    "        self.workItems = workItems\n",
    "        \n",
    "    def getItem(self, index):\n",
    "        if (index != None):\n",
    "            return self.workItems[index]\n",
    "        \n",
    "    def getSum(self):\n",
    "        sum = 0\n",
    "        for wi in self.workItems:\n",
    "            sum += wi.getDaysLeft()\n",
    "        return sum\n",
    "    \n",
    "\n",
    "    def getFirstNotDoneIndex(self, startInd):\n",
    "        for i in range(startInd, len(self.workItems)):\n",
    "            if(self.workItems[i].isDone() == False and self.workItems[i].isAssgined() == False):\n",
    "                return i\n"
   ]
  },
  {
   "cell_type": "code",
   "execution_count": 89,
   "metadata": {},
   "outputs": [
    {
     "name": "stderr",
     "output_type": "stream",
     "text": [
      "test_getFirstNotDoneIndex (__main__.TestBatch) ... ok\n",
      "test_getSum (__main__.TestBatch) ... ok\n",
      "test_init (__main__.TestBatch) ... ok\n",
      "\n",
      "----------------------------------------------------------------------\n",
      "Ran 3 tests in 0.000s\n",
      "\n",
      "OK\n"
     ]
    },
    {
     "data": {
      "text/plain": [
       "<unittest.runner.TextTestResult run=3 errors=0 failures=0>"
      ]
     },
     "execution_count": 89,
     "metadata": {},
     "output_type": "execute_result"
    }
   ],
   "source": [
    "import unittest\n",
    "\n",
    "class TestBatch(unittest.TestCase):\n",
    "\n",
    "    def test_init(self):\n",
    "        ws = []\n",
    "        ws.append(WorkItem(0))\n",
    "        ws.append(WorkItem(2))\n",
    "        ws.append(WorkItem(77))\n",
    "        ws.append(WorkItem(7))\n",
    "        batch = Batch(ws)\n",
    "        self.assertEqual(batch.getItem(2).getDaysLeft(), 77) \n",
    "         \n",
    "    \n",
    "    def test_getFirstNotDoneIndex(self):\n",
    "        ws = []\n",
    "        ws.append(WorkItem(0))\n",
    "        ws.append(WorkItem(0))\n",
    "        ws.append(WorkItem(34))\n",
    "        ws.append(WorkItem(0))\n",
    "        ws.append(WorkItem(0))\n",
    "        ws.append(WorkItem(0))       \n",
    "        ws.append(WorkItem(7))\n",
    "        batch = Batch(ws)\n",
    "        self.assertEqual(batch.getFirstNotDoneIndex(0), 2)       \n",
    "        self.assertEqual(batch.getFirstNotDoneIndex(3), 6) \n",
    "        \n",
    "    def test_getSum(self):\n",
    "        ws = []\n",
    "        ws.append(WorkItem(15))\n",
    "        ws.append(WorkItem(0))\n",
    "        ws.append(WorkItem(10))\n",
    "        ws.append(WorkItem(4))\n",
    "        ws.append(WorkItem(0))\n",
    "        ws.append(WorkItem(1))       \n",
    "        batch = Batch(ws)\n",
    "        self.assertEqual(batch.getSum(), 30)       \n",
    "\n",
    "            \n",
    "suite = unittest.TestLoader().loadTestsFromTestCase(TestBatch)\n",
    "unittest.TextTestRunner(verbosity=2).run(suite)"
   ]
  },
  {
   "cell_type": "code",
   "execution_count": 90,
   "metadata": {},
   "outputs": [],
   "source": [
    "class TeamMember:\n",
    "    def __init__(self, id):\n",
    "        self.id = id\n",
    "        self.assignedWorkItem = None\n",
    "    \n",
    "    def getId(self):\n",
    "        return self.id\n",
    "    \n",
    "    def assignItem(self, wi):\n",
    "        self.assignedWorkItem = wi\n",
    "        wi.assign()\n",
    "        \n",
    "    def unAssignItem(self):\n",
    "        self.assignedWorkItem.unAssign()\n",
    "        self.assignedWorkItem = None\n",
    "        \n",
    "    def workOnItem(self):\n",
    "        if (self.assignedWorkItem != None):\n",
    "            self.assignedWorkItem.decrease()\n",
    "              \n",
    "    def getAssignedItem(self):\n",
    "        return self.assignedWorkItem\n",
    "    \n",
    "    def isAssigned(self):\n",
    "        return (self.assignedWorkItem != None)\n",
    "        \n"
   ]
  },
  {
   "cell_type": "code",
   "execution_count": 91,
   "metadata": {},
   "outputs": [
    {
     "name": "stderr",
     "output_type": "stream",
     "text": [
      "test_assignItem (__main__.TestTeamMember) ... ok\n",
      "test_init (__main__.TestTeamMember) ... ok\n",
      "test_isAssigned (__main__.TestTeamMember) ... ok\n",
      "test_unAssign (__main__.TestTeamMember) ... ok\n",
      "test_workOnItem (__main__.TestTeamMember) ... ok\n",
      "\n",
      "----------------------------------------------------------------------\n",
      "Ran 5 tests in 0.000s\n",
      "\n",
      "OK\n"
     ]
    },
    {
     "data": {
      "text/plain": [
       "<unittest.runner.TextTestResult run=5 errors=0 failures=0>"
      ]
     },
     "execution_count": 91,
     "metadata": {},
     "output_type": "execute_result"
    }
   ],
   "source": [
    "import unittest\n",
    "\n",
    "class TestTeamMember(unittest.TestCase):\n",
    "\n",
    "    def test_init(self):\n",
    "        member = TeamMember(5)\n",
    "        self.assertEqual(member.getAssignedItem(), None)\n",
    "        self.assertEqual(member.getId(), 5)\n",
    "              \n",
    "    def test_assignItem(self):\n",
    "        member = TeamMember(0)\n",
    "        wi = WorkItem(3)\n",
    "        member.assignItem(wi)\n",
    "        self.assertEqual(member.getAssignedItem().getDaysLeft(), 3)\n",
    "        \n",
    "    def test_workOnItem(self):\n",
    "        member = TeamMember(0)\n",
    "        wi = WorkItem(3)\n",
    "        member.assignItem(wi)\n",
    "        member.workOnItem()\n",
    "        self.assertEqual(member.getAssignedItem().getDaysLeft(), 2)\n",
    "        member.workOnItem()\n",
    "        self.assertEqual(member.getAssignedItem().getDaysLeft(), 1)\n",
    "        member.workOnItem()\n",
    "        self.assertEqual(member.getAssignedItem().getDaysLeft(), 0)\n",
    "        member.workOnItem()\n",
    "        self.assertEqual(member.getAssignedItem().getDaysLeft(), 0)\n",
    "        \n",
    "    def test_unAssign(self):\n",
    "        member = TeamMember(0)\n",
    "        wi = WorkItem(3)\n",
    "        member.assignItem(wi)\n",
    "        self.assertEqual(member.getAssignedItem().getDaysLeft(), 3)     \n",
    "        member.unAssignItem()\n",
    "        self.assertEqual(member.getAssignedItem(), None)   \n",
    "        \n",
    "    def test_isAssigned(self):\n",
    "        member = TeamMember(0)\n",
    "        wi = WorkItem(3)\n",
    "        member.assignItem(wi)\n",
    "        self.assertTrue(member.isAssigned())     \n",
    "        member.unAssignItem()\n",
    "        self.assertFalse(member.isAssigned())   \n",
    "   \n",
    "            \n",
    "suite = unittest.TestLoader().loadTestsFromTestCase(TestTeamMember)\n",
    "unittest.TextTestRunner(verbosity=2).run(suite)"
   ]
  },
  {
   "cell_type": "code",
   "execution_count": 92,
   "metadata": {},
   "outputs": [],
   "source": [
    "class Team:\n",
    "    \n",
    "    def __init__(self, teamsize, batch):\n",
    "        self.team = []\n",
    "        for i in range(teamsize):\n",
    "            self.team.append(TeamMember(i))\n",
    "        self.batch = batch\n",
    "        self.dayNo = 0\n",
    " \n",
    "    def getSum(self):\n",
    "        return self.batch.getSum()\n",
    "    \n",
    "    \n",
    "    def getTeamSize(self):\n",
    "        return len(self.team)\n",
    "            \n",
    "    def assign(self):\n",
    "        nextIndex = 0\n",
    "        for m in self.team:\n",
    "            if (m.isAssigned() == False):\n",
    "                nextIndex = self.batch.getFirstNotDoneIndex(nextIndex)\n",
    "                if (nextIndex != None):\n",
    "                    m.assignItem(self.batch.getItem(nextIndex))\n",
    "                    nextIndex += 1\n",
    "            \n",
    "    def getTeamMembersItem(self, index):\n",
    "        return self.team[index].getAssignedItem()\n",
    "    \n",
    "    def completeDay(self):\n",
    "        self.dayNo += 1\n",
    "        for m in self.team:\n",
    "            if (m.getAssignedItem() != None):\n",
    "                if(m.getAssignedItem().isDone() == False):\n",
    "                    m.workOnItem()\n",
    "                else:\n",
    "                    m.unAssignItem()\n",
    "                    self.assign()\n",
    "                    m.workOnItem()\n",
    "\n",
    "     "
   ]
  },
  {
   "cell_type": "code",
   "execution_count": 93,
   "metadata": {},
   "outputs": [
    {
     "name": "stderr",
     "output_type": "stream",
     "text": [
      "test_assign (__main__.TestTeam) ... ok\n",
      "test_completeDay (__main__.TestTeam) ... ok\n",
      "test_init (__main__.TestTeam) ... ok\n",
      "\n",
      "----------------------------------------------------------------------\n",
      "Ran 3 tests in 0.016s\n",
      "\n",
      "OK\n"
     ]
    },
    {
     "data": {
      "text/plain": [
       "<unittest.runner.TextTestResult run=3 errors=0 failures=0>"
      ]
     },
     "execution_count": 93,
     "metadata": {},
     "output_type": "execute_result"
    }
   ],
   "source": [
    "import unittest\n",
    "\n",
    "class TestTeam(unittest.TestCase):\n",
    "\n",
    "    def test_init(self):\n",
    "        ws = []\n",
    "        ws.append(WorkItem(8))\n",
    "        ws.append(WorkItem(24))\n",
    "        ws.append(WorkItem(20))\n",
    "        ws.append(WorkItem(32))\n",
    "        batch = Batch(ws)\n",
    "        team = Team(2, batch)\n",
    "        self.assertEqual(team.getSum(), 84)\n",
    "        self.assertEqual(team.getTeamSize(), 2)\n",
    "           \n",
    "        \n",
    "    def test_assign(self):\n",
    "        ws = []\n",
    "        ws.append(WorkItem(0))\n",
    "        ws.append(WorkItem(24))\n",
    "        ws.append(WorkItem(0))        \n",
    "        ws.append(WorkItem(20))\n",
    "        ws.append(WorkItem(32))\n",
    "        batch = Batch(ws)\n",
    "        team = Team(2, batch)\n",
    "        team.assign()\n",
    "        self.assertEqual(team.getTeamMembersItem(0).getDaysLeft(), 24)\n",
    "        self.assertEqual(team.getTeamMembersItem(1).getDaysLeft(), 20)  \n",
    "    \n",
    "    def test_completeDay(self):\n",
    "        ws = []\n",
    "        ws.append(WorkItem(0)) #### m1d5ii, m1d6ii,m1d7ii, m1d8ii\n",
    "        ws.append(WorkItem(2)) #m0d1s1, m0d2s0\n",
    "        ws.append(WorkItem(0))        \n",
    "        ws.append(WorkItem(4)) #m1d1s3, m1d2s2, m1d3s1, m1d4s0\n",
    "        ws.append(WorkItem(6)) #m0d3s5, m0d4s4, m0d5s3, m0d6s2, m0d7s1, m0d8s0\n",
    "        batch = Batch(ws)\n",
    "        team = Team(2, batch)\n",
    "        team.assign()\n",
    "        self.assertEqual(team.getSum(), 12)\n",
    "        self.assertEqual(ws.index(team.getTeamMembersItem(0)), 1)\n",
    "        self.assertEqual(ws.index(team.getTeamMembersItem(1)), 3)        \n",
    "        team.completeDay() #1\n",
    "        self.assertEqual(team.getSum(), 10)\n",
    "        self.assertEqual(ws.index(team.getTeamMembersItem(0)), 1)\n",
    "        self.assertEqual(ws.index(team.getTeamMembersItem(1)), 3)           \n",
    "        team.completeDay() #2\n",
    "        self.assertEqual(team.getSum(), 8)\n",
    "        self.assertEqual(ws.index(team.getTeamMembersItem(0)), 1)\n",
    "        self.assertEqual(ws.index(team.getTeamMembersItem(1)), 3)   \n",
    "        team.completeDay() #3\n",
    "        self.assertEqual(team.getSum(), 6)\n",
    "        self.assertEqual(ws.index(team.getTeamMembersItem(0)), 4)\n",
    "        self.assertEqual(ws.index(team.getTeamMembersItem(1)), 3)           \n",
    "        team.completeDay() #4\n",
    "        self.assertEqual(team.getSum(), 4)\n",
    "        team.completeDay() #5\n",
    "        self.assertEqual(team.getSum(), 3)\n",
    "        team.completeDay() #6\n",
    "        self.assertEqual(team.getSum(), 2)\n",
    "        team.completeDay() #7\n",
    "        self.assertEqual(team.getSum(), 1)\n",
    "        team.completeDay() #8\n",
    "        self.assertEqual(team.getSum(), 0)\n",
    "        \n",
    "       \n",
    "                    \n",
    "suite = unittest.TestLoader().loadTestsFromTestCase(TestTeam)\n",
    "unittest.TextTestRunner(verbosity=2).run(suite)"
   ]
  },
  {
   "cell_type": "code",
   "execution_count": null,
   "metadata": {},
   "outputs": [],
   "source": []
  },
  {
   "cell_type": "code",
   "execution_count": null,
   "metadata": {},
   "outputs": [],
   "source": []
  }
 ],
 "metadata": {
  "kernelspec": {
   "display_name": "Python 3",
   "language": "python",
   "name": "python3"
  },
  "language_info": {
   "codemirror_mode": {
    "name": "ipython",
    "version": 3
   },
   "file_extension": ".py",
   "mimetype": "text/x-python",
   "name": "python",
   "nbconvert_exporter": "python",
   "pygments_lexer": "ipython3",
   "version": "3.6.7"
  }
 },
 "nbformat": 4,
 "nbformat_minor": 2
}
